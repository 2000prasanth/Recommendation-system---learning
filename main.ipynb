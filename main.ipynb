{
 "cells": [
  {
   "cell_type": "markdown",
   "metadata": {},
   "source": [
    "Initial setup"
   ]
  },
  {
   "cell_type": "code",
   "execution_count": 33,
   "metadata": {},
   "outputs": [],
   "source": [
    "import pandas as pd"
   ]
  },
  {
   "cell_type": "code",
   "execution_count": 34,
   "metadata": {},
   "outputs": [],
   "source": [
    "import numpy as np"
   ]
  },
  {
   "cell_type": "code",
   "execution_count": 35,
   "metadata": {},
   "outputs": [],
   "source": [
    "u_cols=['user_id','age','sex','occupation','zip_code']\n",
    "users=pd.read_csv(r\"C:\\Users\\prasa\\OneDrive\\Desktop\\DSA hackathons\\Recommendation engine\\ml-100k\\ml-100k\\u.user\",sep='|',names=u_cols, encoding='latin-1')"
   ]
  },
  {
   "cell_type": "code",
   "execution_count": 36,
   "metadata": {},
   "outputs": [],
   "source": [
    "#read rating files\n",
    "r_cols=['user_id','movie_id','rating','unix_timestamp']\n",
    "ratings=pd.read_csv(r\"C:\\Users\\prasa\\OneDrive\\Desktop\\DSA hackathons\\Recommendation engine\\ml-100k\\ml-100k\\u.data\", sep='\\t', names=r_cols, encoding='latin-1')\n"
   ]
  },
  {
   "cell_type": "code",
   "execution_count": 37,
   "metadata": {},
   "outputs": [],
   "source": [
    "#reading item files\n",
    "i_cols=['movie_id','movie title','release date','video release date','IMDB url','unknown','Action','Adventure','Animation','Children','Comdey',\n",
    "        'Crime','Documentary','Drama','Fantasy','Film-Noir','Horror','Musical','Mystery','Romance','Sci-Fi','Thriller','War','Western']\n",
    "items=pd.read_csv(r\"C:\\Users\\prasa\\OneDrive\\Desktop\\DSA hackathons\\Recommendation engine\\ml-100k\\ml-100k\\u.item\", sep='|', names=i_cols, encoding='latin-1')"
   ]
  },
  {
   "cell_type": "code",
   "execution_count": 38,
   "metadata": {},
   "outputs": [
    {
     "name": "stdout",
     "output_type": "stream",
     "text": [
      "\n",
      "User Data :\n",
      "shape: (100000, 4)\n",
      "   user_id  movie_id  rating  unix_timestamp\n",
      "0      196       242       3       881250949\n",
      "1      186       302       3       891717742\n",
      "2       22       377       1       878887116\n",
      "3      244        51       2       880606923\n",
      "4      166       346       1       886397596\n"
     ]
    }
   ],
   "source": [
    "print(\"\\nUser Data :\")\n",
    "print(\"shape:\", ratings.shape)\n",
    "print(ratings.head())"
   ]
  },
  {
   "cell_type": "code",
   "execution_count": 39,
   "metadata": {},
   "outputs": [
    {
     "name": "stdout",
     "output_type": "stream",
     "text": [
      "\n",
      "Item Data :\n",
      "shape  (1682, 24)\n",
      "   movie_id        movie title release date  video release date  \\\n",
      "0         1   Toy Story (1995)  01-Jan-1995                 NaN   \n",
      "1         2   GoldenEye (1995)  01-Jan-1995                 NaN   \n",
      "2         3  Four Rooms (1995)  01-Jan-1995                 NaN   \n",
      "3         4  Get Shorty (1995)  01-Jan-1995                 NaN   \n",
      "4         5     Copycat (1995)  01-Jan-1995                 NaN   \n",
      "\n",
      "                                            IMDB url  unknown  Action  \\\n",
      "0  http://us.imdb.com/M/title-exact?Toy%20Story%2...        0       0   \n",
      "1  http://us.imdb.com/M/title-exact?GoldenEye%20(...        0       1   \n",
      "2  http://us.imdb.com/M/title-exact?Four%20Rooms%...        0       0   \n",
      "3  http://us.imdb.com/M/title-exact?Get%20Shorty%...        0       1   \n",
      "4  http://us.imdb.com/M/title-exact?Copycat%20(1995)        0       0   \n",
      "\n",
      "   Adventure  Animation  Children  ...  Fantasy  Film-Noir  Horror  Musical  \\\n",
      "0          0          1         1  ...        0          0       0        0   \n",
      "1          1          0         0  ...        0          0       0        0   \n",
      "2          0          0         0  ...        0          0       0        0   \n",
      "3          0          0         0  ...        0          0       0        0   \n",
      "4          0          0         0  ...        0          0       0        0   \n",
      "\n",
      "   Mystery  Romance  Sci-Fi  Thriller  War  Western  \n",
      "0        0        0       0         0    0        0  \n",
      "1        0        0       0         1    0        0  \n",
      "2        0        0       0         1    0        0  \n",
      "3        0        0       0         0    0        0  \n",
      "4        0        0       0         1    0        0  \n",
      "\n",
      "[5 rows x 24 columns]\n"
     ]
    }
   ],
   "source": [
    "print(\"\\nItem Data :\")\n",
    "print(\"shape \",items.shape)\n",
    "print(items.head())"
   ]
  },
  {
   "cell_type": "code",
   "execution_count": 40,
   "metadata": {},
   "outputs": [
    {
     "data": {
      "text/plain": [
       "(9430, 4)"
      ]
     },
     "execution_count": 40,
     "metadata": {},
     "output_type": "execute_result"
    }
   ],
   "source": [
    "r_cols=['user_id','movie_id','rating','unix_timestamp']\n",
    "ratings_train=pd.read_csv(r\"C:\\Users\\prasa\\OneDrive\\Desktop\\DSA hackathons\\Recommendation engine\\ml-100k\\ml-100k\\ua.base\", sep='\\t', names=r_cols, encoding='latin-1')\n",
    "ratings_test=pd.read_csv(r\"C:\\Users\\prasa\\OneDrive\\Desktop\\DSA hackathons\\Recommendation engine\\ml-100k\\ml-100k\\ua.test\", sep='\\t', names=r_cols, encoding='latin-1')\n",
    "ratings_train.shape\n",
    "ratings_test.shape"
   ]
  },
  {
   "cell_type": "markdown",
   "metadata": {},
   "source": [
    "Collaborative siltering model"
   ]
  },
  {
   "cell_type": "code",
   "execution_count": 41,
   "metadata": {},
   "outputs": [],
   "source": [
    "n_users=ratings.user_id.unique().shape[0]\n",
    "n_items=ratings.movie_id.unique().shape[0]"
   ]
  },
  {
   "cell_type": "code",
   "execution_count": 42,
   "metadata": {},
   "outputs": [],
   "source": [
    "data_matrix=np.zeros((n_users, n_items))\n",
    "for line in ratings.itertuples():\n",
    "    data_matrix[line[1]-1, line[2]-1]=line[3]"
   ]
  },
  {
   "cell_type": "code",
   "execution_count": 43,
   "metadata": {},
   "outputs": [],
   "source": [
    "from sklearn.metrics.pairwise import pairwise_distances\n",
    "user_similarity = pairwise_distances(data_matrix, metric='cosine')\n",
    "item_similarity = pairwise_distances(data_matrix.T, metric='cosine')\n"
   ]
  },
  {
   "cell_type": "code",
   "execution_count": 44,
   "metadata": {},
   "outputs": [],
   "source": [
    "def predict(ratings, similarity, type='user'):\n",
    "    if type=='user':\n",
    "        mean_user_rating=ratings.mean(axis=1)\n",
    "        ratings_diff=(ratings-mean_user_rating[:, np.newaxis])\n",
    "        pred=mean_user_rating[:,np.newaxis]+similarity.dot(ratings_diff)\n",
    "    elif type=='item':\n",
    "        pred=ratings.dot(similarity)/np.array([np.abs(similarity).sum(axis=1)])\n",
    "    return pred\n",
    "    "
   ]
  },
  {
   "cell_type": "code",
   "execution_count": 45,
   "metadata": {},
   "outputs": [],
   "source": [
    "user_prediction=predict(data_matrix, user_similarity, type='user')\n",
    "item_prediction=predict(data_matrix, item_similarity, type='item')"
   ]
  },
  {
   "cell_type": "markdown",
   "metadata": {},
   "source": [
    "Building a model"
   ]
  },
  {
   "cell_type": "code",
   "execution_count": 46,
   "metadata": {},
   "outputs": [],
   "source": [
    "class MF():\n",
    "\n",
    "    # Initializing the user-movie rating matrix, no. of latent features, alpha and beta.\n",
    "    def __init__(self, R, K, alpha, beta, iterations):\n",
    "        self.R = R\n",
    "        self.num_users, self.num_items = R.shape\n",
    "        self.K = K\n",
    "        self.alpha = alpha\n",
    "        self.beta = beta\n",
    "        self.iterations = iterations\n",
    "\n",
    "    # Initializing user-feature and movie-feature matrix \n",
    "    def train(self):\n",
    "        self.P = np.random.normal(scale=1./self.K, size=(self.num_users, self.K))\n",
    "        self.Q = np.random.normal(scale=1./self.K, size=(self.num_items, self.K))\n",
    "\n",
    "        # Initializing the bias terms\n",
    "        self.b_u = np.zeros(self.num_users)\n",
    "        self.b_i = np.zeros(self.num_items)\n",
    "        self.b = np.mean(self.R[np.where(self.R != 0)])\n",
    "\n",
    "        # List of training samples\n",
    "        self.samples = [\n",
    "        (i, j, self.R[i, j])\n",
    "        for i in range(self.num_users)\n",
    "        for j in range(self.num_items)\n",
    "        if self.R[i, j] > 0\n",
    "        ]\n",
    "\n",
    "        # Stochastic gradient descent for given number of iterations\n",
    "        training_process = []\n",
    "        for i in range(self.iterations):\n",
    "            np.random.shuffle(self.samples)\n",
    "        self.sgd()\n",
    "        mse = self.mse()\n",
    "        training_process.append((i, mse))\n",
    "        if (i+1) % 20 == 0:\n",
    "            print(\"Iteration: %d ; error = %.4f\" % (i+1, mse))\n",
    "\n",
    "        return training_process\n",
    "\n",
    "    # Computing total mean squared error\n",
    "    def mse(self):\n",
    "        xs, ys = self.R.nonzero()\n",
    "        predicted = self.full_matrix()\n",
    "        error = 0\n",
    "        for x, y in zip(xs, ys):\n",
    "            error += pow(self.R[x, y] - predicted[x, y], 2)\n",
    "        return np.sqrt(error)\n",
    "\n",
    "    # Stochastic gradient descent to get optimized P and Q matrix\n",
    "    def sgd(self):\n",
    "        for i, j, r in self.samples:\n",
    "            prediction = self.get_rating(i, j)\n",
    "            e = (r - prediction)\n",
    "\n",
    "            self.b_u[i] += self.alpha * (e - self.beta * self.b_u[i])\n",
    "            self.b_i[j] += self.alpha * (e - self.beta * self.b_i[j])\n",
    "\n",
    "            self.P[i, :] += self.alpha * (e * self.Q[j, :] - self.beta * self.P[i,:])\n",
    "            self.Q[j, :] += self.alpha * (e * self.P[i, :] - self.beta * self.Q[j,:])\n",
    "\n",
    "    # Ratings for user i and moive j\n",
    "    def get_rating(self, i, j):\n",
    "        prediction = self.b + self.b_u[i] + self.b_i[j] + self.P[i, :].dot(self.Q[j, :].T)\n",
    "        return prediction\n",
    "\n",
    "    # Full user-movie rating matrix\n",
    "    def full_matrix(self):\n",
    "        return mf.b + mf.b_u[:,np.newaxis] + mf.b_i[np.newaxis:,] + mf.P.dot(mf.Q.T)"
   ]
  },
  {
   "cell_type": "code",
   "execution_count": 47,
   "metadata": {},
   "outputs": [],
   "source": [
    "R=np.array(ratings.pivot(index='user_id', columns='movie_id', values='rating').fillna(0))"
   ]
  },
  {
   "cell_type": "code",
   "execution_count": 48,
   "metadata": {},
   "outputs": [
    {
     "name": "stdout",
     "output_type": "stream",
     "text": [
      "Iteration: 100 ; error = 337.5685\n",
      "\n",
      "P x Q:\n",
      "[[3.66795927 3.50933911 3.51102061 ... 3.54774432 3.5366693  3.5371693 ]\n",
      " [3.66765722 3.51586989 3.49672415 ... 3.52041164 3.53708066 3.54793684]\n",
      " [3.60684295 3.45873734 3.44013847 ... 3.46958453 3.48271411 3.4976175 ]\n",
      " ...\n",
      " [3.6813511  3.51282801 3.4885697  ... 3.5145044  3.53965348 3.53249836]\n",
      " [3.71908948 3.54926761 3.55043679 ... 3.59062415 3.59131418 3.58097309]\n",
      " [3.64498752 3.48386914 3.46356526 ... 3.52328473 3.48739103 3.49847721]]\n",
      "\n"
     ]
    }
   ],
   "source": [
    "mf=MF(R, K=20, alpha=0.001, beta=0.01, iterations=100)\n",
    "training_process=mf.train()\n",
    "print()\n",
    "print(\"P x Q:\")\n",
    "print(mf.full_matrix())\n",
    "print()"
   ]
  },
  {
   "cell_type": "markdown",
   "metadata": {},
   "source": [
    "using the package"
   ]
  },
  {
   "cell_type": "markdown",
   "metadata": {},
   "source": [
    "Popularity recommender"
   ]
  },
  {
   "cell_type": "code",
   "execution_count": 49,
   "metadata": {},
   "outputs": [],
   "source": [
    "train_data = pd.DataFrame(ratings_train)\n",
    "test_data = pd.DataFrame(ratings_test)"
   ]
  },
  {
   "cell_type": "code",
   "execution_count": 55,
   "metadata": {},
   "outputs": [
    {
     "data": {
      "text/html": [
       "<div>\n",
       "<style scoped>\n",
       "    .dataframe tbody tr th:only-of-type {\n",
       "        vertical-align: middle;\n",
       "    }\n",
       "\n",
       "    .dataframe tbody tr th {\n",
       "        vertical-align: top;\n",
       "    }\n",
       "\n",
       "    .dataframe thead th {\n",
       "        text-align: right;\n",
       "    }\n",
       "</style>\n",
       "<table border=\"1\" class=\"dataframe\">\n",
       "  <thead>\n",
       "    <tr style=\"text-align: right;\">\n",
       "      <th></th>\n",
       "      <th>user_id</th>\n",
       "      <th>movie_id</th>\n",
       "      <th>rating</th>\n",
       "      <th>unix_timestamp</th>\n",
       "    </tr>\n",
       "  </thead>\n",
       "  <tbody>\n",
       "    <tr>\n",
       "      <th>0</th>\n",
       "      <td>1</td>\n",
       "      <td>1</td>\n",
       "      <td>5</td>\n",
       "      <td>874965758</td>\n",
       "    </tr>\n",
       "    <tr>\n",
       "      <th>1</th>\n",
       "      <td>1</td>\n",
       "      <td>2</td>\n",
       "      <td>3</td>\n",
       "      <td>876893171</td>\n",
       "    </tr>\n",
       "    <tr>\n",
       "      <th>2</th>\n",
       "      <td>1</td>\n",
       "      <td>3</td>\n",
       "      <td>4</td>\n",
       "      <td>878542960</td>\n",
       "    </tr>\n",
       "    <tr>\n",
       "      <th>3</th>\n",
       "      <td>1</td>\n",
       "      <td>4</td>\n",
       "      <td>3</td>\n",
       "      <td>876893119</td>\n",
       "    </tr>\n",
       "    <tr>\n",
       "      <th>4</th>\n",
       "      <td>1</td>\n",
       "      <td>5</td>\n",
       "      <td>3</td>\n",
       "      <td>889751712</td>\n",
       "    </tr>\n",
       "    <tr>\n",
       "      <th>...</th>\n",
       "      <td>...</td>\n",
       "      <td>...</td>\n",
       "      <td>...</td>\n",
       "      <td>...</td>\n",
       "    </tr>\n",
       "    <tr>\n",
       "      <th>90565</th>\n",
       "      <td>943</td>\n",
       "      <td>1047</td>\n",
       "      <td>2</td>\n",
       "      <td>875502146</td>\n",
       "    </tr>\n",
       "    <tr>\n",
       "      <th>90566</th>\n",
       "      <td>943</td>\n",
       "      <td>1074</td>\n",
       "      <td>4</td>\n",
       "      <td>888640250</td>\n",
       "    </tr>\n",
       "    <tr>\n",
       "      <th>90567</th>\n",
       "      <td>943</td>\n",
       "      <td>1188</td>\n",
       "      <td>3</td>\n",
       "      <td>888640250</td>\n",
       "    </tr>\n",
       "    <tr>\n",
       "      <th>90568</th>\n",
       "      <td>943</td>\n",
       "      <td>1228</td>\n",
       "      <td>3</td>\n",
       "      <td>888640275</td>\n",
       "    </tr>\n",
       "    <tr>\n",
       "      <th>90569</th>\n",
       "      <td>943</td>\n",
       "      <td>1330</td>\n",
       "      <td>3</td>\n",
       "      <td>888692465</td>\n",
       "    </tr>\n",
       "  </tbody>\n",
       "</table>\n",
       "<p>90570 rows × 4 columns</p>\n",
       "</div>"
      ],
      "text/plain": [
       "       user_id  movie_id  rating  unix_timestamp\n",
       "0            1         1       5       874965758\n",
       "1            1         2       3       876893171\n",
       "2            1         3       4       878542960\n",
       "3            1         4       3       876893119\n",
       "4            1         5       3       889751712\n",
       "...        ...       ...     ...             ...\n",
       "90565      943      1047       2       875502146\n",
       "90566      943      1074       4       888640250\n",
       "90567      943      1188       3       888640250\n",
       "90568      943      1228       3       888640275\n",
       "90569      943      1330       3       888692465\n",
       "\n",
       "[90570 rows x 4 columns]"
      ]
     },
     "execution_count": 55,
     "metadata": {},
     "output_type": "execute_result"
    }
   ],
   "source": [
    "train_data"
   ]
  },
  {
   "cell_type": "code",
   "execution_count": 50,
   "metadata": {},
   "outputs": [],
   "source": [
    "popularity_model = train_data.groupby('movie_id')['rating'].mean().reset_index()\n",
    "\n",
    "# Rename the column to 'mean_rating'\n",
    "popularity_model.rename(columns={'rating': 'mean_rating'}, inplace=True)\n",
    "\n",
    "# Sort the DataFrame by 'mean_rating' in descending order\n",
    "popularity_model.sort_values('mean_rating', ascending=False, inplace=True)"
   ]
  },
  {
   "cell_type": "code",
   "execution_count": 51,
   "metadata": {},
   "outputs": [
    {
     "name": "stdout",
     "output_type": "stream",
     "text": [
      "Top 5 movie recommendations for user 1:\n",
      "      movie_id  mean_rating\n",
      "1499      1500          5.0\n",
      "1188      1189          5.0\n",
      "1200      1201          5.0\n",
      "1121      1122          5.0\n",
      "1466      1467          5.0\n",
      "\n",
      "\n",
      "Top 5 movie recommendations for user 2:\n",
      "      movie_id  mean_rating\n",
      "1499      1500          5.0\n",
      "1188      1189          5.0\n",
      "1200      1201          5.0\n",
      "1121      1122          5.0\n",
      "1466      1467          5.0\n",
      "\n",
      "\n",
      "Top 5 movie recommendations for user 3:\n",
      "      movie_id  mean_rating\n",
      "1499      1500          5.0\n",
      "1188      1189          5.0\n",
      "1200      1201          5.0\n",
      "1121      1122          5.0\n",
      "1466      1467          5.0\n",
      "\n",
      "\n",
      "Top 5 movie recommendations for user 4:\n",
      "      movie_id  mean_rating\n",
      "1499      1500          5.0\n",
      "1188      1189          5.0\n",
      "1200      1201          5.0\n",
      "1121      1122          5.0\n",
      "1466      1467          5.0\n",
      "\n",
      "\n",
      "Top 5 movie recommendations for user 5:\n",
      "      movie_id  mean_rating\n",
      "1499      1500          5.0\n",
      "1188      1189          5.0\n",
      "1200      1201          5.0\n",
      "1121      1122          5.0\n",
      "1466      1467          5.0\n",
      "\n",
      "\n"
     ]
    }
   ],
   "source": [
    "# Get the top 5 movies\n",
    "top_5_movies = popularity_model.head(5)\n",
    "\n",
    "# Print the top 5 movies for each user\n",
    "for user in [1, 2, 3, 4, 5]:\n",
    "    print(f\"Top 5 movie recommendations for user {user}:\")\n",
    "    print(top_5_movies)\n",
    "    print(\"\\n\")\n"
   ]
  },
  {
   "cell_type": "code",
   "execution_count": 52,
   "metadata": {},
   "outputs": [
    {
     "name": "stdout",
     "output_type": "stream",
     "text": [
      "Top 5 item recommendations for user 1:\n",
      "Series([], dtype: float64)\n",
      "\n",
      "\n",
      "Top 5 item recommendations for user 2:\n",
      "Series([], dtype: float64)\n",
      "\n",
      "\n",
      "Top 5 item recommendations for user 3:\n",
      "Series([], dtype: float64)\n",
      "\n",
      "\n",
      "Top 5 item recommendations for user 4:\n",
      "Series([], dtype: float64)\n",
      "\n",
      "\n",
      "Top 5 item recommendations for user 5:\n",
      "Series([], dtype: float64)\n",
      "\n",
      "\n"
     ]
    }
   ],
   "source": [
    "from sklearn.metrics.pairwise import cosine_similarity\n",
    "\n",
    "\n",
    "# Assuming that 'train_data' is a matrix of user-item interactions\n",
    "# Calculate the cosine similarity between items\n",
    "item_similarity = cosine_similarity(train_data.T)\n",
    "item_similarity_df = pd.DataFrame(item_similarity, index=train_data.columns, columns=train_data.columns)\n",
    "\n",
    "# Function to return the top-N items for a user\n",
    "def recommend_items(user_index, n=5):\n",
    "    # Get the items already rated by this user\n",
    "    known_items = train_data.loc[user_index]\n",
    "    known_items = known_items[known_items > 0].index.values\n",
    "\n",
    "    # Get the predicted ratings for all other items\n",
    "    predicted_ratings = item_similarity_df.loc[known_items].sum()\n",
    "    predicted_ratings = predicted_ratings.drop(known_items)\n",
    "\n",
    "    # Get the top-N items\n",
    "    recommended_items = predicted_ratings.nlargest(n)\n",
    "    return recommended_items\n",
    "\n",
    "# Get the top-5 items for users 1, 2, 3, 4, 5\n",
    "for user in [1, 2, 3, 4, 5]:\n",
    "    print(f\"Top 5 item recommendations for user {user}:\")\n",
    "    print(recommend_items(user, 5))\n",
    "    print(\"\\n\")\n"
   ]
  },
  {
   "cell_type": "code",
   "execution_count": 53,
   "metadata": {},
   "outputs": [],
   "source": [
    "def recommend_items(user_index, n=5):\n",
    "    # Get the items already rated by this user\n",
    "    known_items = train_data.loc[user_index]\n",
    "    known_items = known_items[known_items > 0].index.values\n",
    "\n",
    "    if len(known_items) == 0:\n",
    "        return pd.Series([])  # Return an empty series if the user has not rated any items\n",
    "\n",
    "    # Get the predicted ratings for all other items\n",
    "    predicted_ratings = item_similarity_df.loc[known_items].sum()\n",
    "    predicted_ratings = predicted_ratings.drop(known_items)\n",
    "\n",
    "    if predicted_ratings.empty:\n",
    "        return pd.Series([])  # Return an empty series if there are no ratings to predict\n",
    "\n",
    "    # Get the top-N items\n",
    "    recommended_items = predicted_ratings.nlargest(n)\n",
    "    return recommended_items\n"
   ]
  },
  {
   "cell_type": "code",
   "execution_count": 54,
   "metadata": {},
   "outputs": [
    {
     "name": "stdout",
     "output_type": "stream",
     "text": [
      "Top 5 item recommendations for user 1:\n",
      "Series([], dtype: object)\n",
      "\n",
      "\n",
      "Top 5 item recommendations for user 2:\n",
      "Series([], dtype: object)\n",
      "\n",
      "\n",
      "Top 5 item recommendations for user 3:\n",
      "Series([], dtype: object)\n",
      "\n",
      "\n",
      "Top 5 item recommendations for user 4:\n",
      "Series([], dtype: object)\n",
      "\n",
      "\n",
      "Top 5 item recommendations for user 5:\n",
      "Series([], dtype: object)\n",
      "\n",
      "\n"
     ]
    }
   ],
   "source": [
    "for user in [1, 2, 3, 4, 5]:\n",
    "    print(f\"Top 5 item recommendations for user {user}:\")\n",
    "    print(recommend_items(user, 5))\n",
    "    print(\"\\n\")"
   ]
  },
  {
   "cell_type": "code",
   "execution_count": 56,
   "metadata": {},
   "outputs": [
    {
     "name": "stdout",
     "output_type": "stream",
     "text": [
      "Top 5 item recommendations for user 1:\n",
      "Empty DataFrame\n",
      "Columns: [user_id, movie_id, score, rank]\n",
      "Index: []\n",
      "\n",
      "\n",
      "Top 5 item recommendations for user 2:\n",
      "Empty DataFrame\n",
      "Columns: [user_id, movie_id, score, rank]\n",
      "Index: []\n",
      "\n",
      "\n",
      "Top 5 item recommendations for user 3:\n",
      "Empty DataFrame\n",
      "Columns: [user_id, movie_id, score, rank]\n",
      "Index: []\n",
      "\n",
      "\n",
      "Top 5 item recommendations for user 4:\n",
      "Empty DataFrame\n",
      "Columns: [user_id, movie_id, score, rank]\n",
      "Index: []\n",
      "\n",
      "\n",
      "Top 5 item recommendations for user 5:\n",
      "Empty DataFrame\n",
      "Columns: [user_id, movie_id, score, rank]\n",
      "Index: []\n",
      "\n",
      "\n"
     ]
    }
   ],
   "source": [
    "def recommend_items(user_index, n=5):\n",
    "    # Get the items already rated by this user\n",
    "    known_items = train_data.loc[user_index]\n",
    "    known_items = known_items[known_items > 0].index.values\n",
    "\n",
    "    if len(known_items) == 0:\n",
    "        return pd.DataFrame(columns=['user_id', 'movie_id', 'score', 'rank'])  # Return an empty DataFrame if the user has not rated any items\n",
    "\n",
    "    # Get the predicted ratings for all other items\n",
    "    predicted_ratings = item_similarity_df.loc[known_items].sum()\n",
    "    predicted_ratings = predicted_ratings.drop(known_items)\n",
    "\n",
    "    if predicted_ratings.empty:\n",
    "        return pd.DataFrame(columns=['user_id', 'movie_id', 'score', 'rank'])  # Return an empty DataFrame if there are no ratings to predict\n",
    "\n",
    "    # Get the top-N items\n",
    "    recommended_items = predicted_ratings.nlargest(n)\n",
    "\n",
    "    # Create a DataFrame with user_id, movie_id, score, and rank\n",
    "    recommendations = pd.DataFrame({\n",
    "        'user_id': user_index,\n",
    "        'movie_id': recommended_items.index,\n",
    "        'score': recommended_items.values,\n",
    "        'rank': range(1, len(recommended_items) + 1)\n",
    "    })\n",
    "\n",
    "    return recommendations\n",
    "\n",
    "# Get the top-5 items for users 1, 2, 3, 4, 5\n",
    "for user in [1, 2, 3, 4, 5]:\n",
    "    print(f\"Top 5 item recommendations for user {user}:\")\n",
    "    print(recommend_items(user, 5))\n",
    "    print(\"\\n\")\n"
   ]
  }
 ],
 "metadata": {
  "kernelspec": {
   "display_name": ".venv",
   "language": "python",
   "name": "python3"
  },
  "language_info": {
   "codemirror_mode": {
    "name": "ipython",
    "version": 3
   },
   "file_extension": ".py",
   "mimetype": "text/x-python",
   "name": "python",
   "nbconvert_exporter": "python",
   "pygments_lexer": "ipython3",
   "version": "3.8.10"
  }
 },
 "nbformat": 4,
 "nbformat_minor": 2
}
